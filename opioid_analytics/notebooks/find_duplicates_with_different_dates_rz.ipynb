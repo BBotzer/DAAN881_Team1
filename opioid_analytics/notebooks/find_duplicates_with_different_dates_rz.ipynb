{
 "cells": [
  {
   "cell_type": "code",
   "id": "27a967a6bc2dde8b",
   "metadata": {
    "collapsed": true,
    "ExecuteTime": {
     "end_time": "2024-06-11T20:25:33.468580Z",
     "start_time": "2024-06-11T20:25:33.385425Z"
    }
   },
   "source": [
    "import pandas as pd\n",
    "\n",
    "df = pd.read_csv(\"../data/interim/merged_df.csv\")"
   ],
   "outputs": [],
   "execution_count": null
  },
  {
   "metadata": {
    "ExecuteTime": {
     "end_time": "2024-06-11T22:23:54.352533Z",
     "start_time": "2024-06-11T22:23:54.345290Z"
    }
   },
   "cell_type": "code",
   "source": [
    "# Finds if there are instances where there is a repeat victim on different days\n",
    "[g[\"incident_id\"] for _, g in df.groupby(\"victim_id\") if len(g) > 1 and len(g[\"incident_id\"].unique()) > 1]"
   ],
   "id": "initial_id",
   "outputs": [
    {
     "ename": "SyntaxError",
     "evalue": "invalid syntax (2592917489.py, line 2)",
     "output_type": "error",
     "traceback": [
      "\u001B[1;36m  Cell \u001B[1;32mIn[13], line 2\u001B[1;36m\u001B[0m\n\u001B[1;33m    g[\"incident_id\"] for _, g in df.groupby(\"victim_id\") if len(g) > 1 and len(g[\"incident_id\"].unique()) > 1\u001B[0m\n\u001B[1;37m                     ^\u001B[0m\n\u001B[1;31mSyntaxError\u001B[0m\u001B[1;31m:\u001B[0m invalid syntax\n"
     ]
    }
   ],
   "execution_count": 13
  }
 ],
 "metadata": {
  "kernelspec": {
   "display_name": "Python 3",
   "language": "python",
   "name": "python3"
  },
  "language_info": {
   "codemirror_mode": {
    "name": "ipython",
    "version": 2
   },
   "file_extension": ".py",
   "mimetype": "text/x-python",
   "name": "python",
   "nbconvert_exporter": "python",
   "pygments_lexer": "ipython2",
   "version": "2.7.6"
  }
 },
 "nbformat": 4,
 "nbformat_minor": 5
}
