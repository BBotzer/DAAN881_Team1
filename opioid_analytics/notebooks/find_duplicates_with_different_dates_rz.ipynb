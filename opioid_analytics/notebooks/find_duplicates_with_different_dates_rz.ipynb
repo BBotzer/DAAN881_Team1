{
 "cells": [
  {
   "cell_type": "code",
   "id": "27a967a6bc2dde8b",
   "metadata": {
    "collapsed": true,
    "ExecuteTime": {
     "end_time": "2024-06-11T20:25:33.468580Z",
     "start_time": "2024-06-11T20:25:33.385425Z"
    }
   },
   "source": [
    "import pandas as pd\n",
    "\n",
    "df = pd.read_csv(\"../data/interim/merged_df.csv\")"
   ],
   "outputs": [],
   "execution_count": null
  },
  {
   "metadata": {
    "ExecuteTime": {
     "end_time": "2024-06-11T22:34:28.545742Z",
     "start_time": "2024-06-11T22:34:28.495587Z"
    }
   },
   "cell_type": "code",
   "source": [
    "# Finds if there are instances where there is a repeat victim on different days\n",
    "[g[\"incident_id\"] for _, g in df.groupby(\"victim_id\") if len(g) > 1 and len(g[\"incident_id\"].unique()) > 1]"
   ],
   "id": "initial_id",
   "outputs": [
    {
     "data": {
      "text/plain": [
       "[]"
      ]
     },
     "execution_count": 15,
     "metadata": {},
     "output_type": "execute_result"
    }
   ],
   "execution_count": 15
  },
  {
   "metadata": {},
   "cell_type": "code",
   "outputs": [],
   "execution_count": null,
   "source": "",
   "id": "cf3a91a13e3e905f"
  }
 ],
 "metadata": {
  "kernelspec": {
   "display_name": "Python 3",
   "language": "python",
   "name": "python3"
  },
  "language_info": {
   "codemirror_mode": {
    "name": "ipython",
    "version": 2
   },
   "file_extension": ".py",
   "mimetype": "text/x-python",
   "name": "python",
   "nbconvert_exporter": "python",
   "pygments_lexer": "ipython2",
   "version": "2.7.6"
  }
 },
 "nbformat": 4,
 "nbformat_minor": 5
}
